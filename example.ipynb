{
 "cells": [
  {
   "cell_type": "code",
   "execution_count": 22,
   "id": "94d90332",
   "metadata": {},
   "outputs": [],
   "source": [
    "import numpy as np\n",
    "from math import *\n",
    "import matplotlib.pyplot as plt\n",
    "from matplotlib.widgets import Slider, Button\n",
    "from boundaryscheme.schemes import *\n",
    "from ipywidgets import interact\n",
    "\n",
    "order = 2\n",
    "nparam = 300\n",
    "\n",
    "schem = BeamWarming\n",
    "\n",
    "lamb = schem(1).CFL\n",
    "minvalue = 0.0001\n",
    "maxvalue = lamb"
   ]
  },
  {
   "cell_type": "code",
   "execution_count": 24,
   "id": "8b6b849a",
   "metadata": {},
   "outputs": [
    {
     "data": {
      "application/vnd.jupyter.widget-view+json": {
       "model_id": "1a071c7250f74b1f955c6b377926b234",
       "version_major": 2,
       "version_minor": 0
      },
      "text/plain": [
       "interactive(children=(FloatSlider(value=1.00005, description='val', max=2.0, min=0.0001), Output()), _dom_clas…"
      ]
     },
     "metadata": {},
     "output_type": "display_data"
    },
    {
     "data": {
      "text/plain": [
       "<function __main__.update(val)>"
      ]
     },
     "execution_count": 24,
     "metadata": {},
     "output_type": "execute_result"
    }
   ],
   "source": [
    "Param = np.linspace(0,1,nparam)\n",
    "Param = np.cos(2*pi*Param) + 1j * np.sin(2*pi*Param)\n",
    "Theta = np.linspace(0,2*pi,500)\n",
    "    \n",
    "def update(val):\n",
    "    \n",
    "    fig = plt.figure()\n",
    "    ax = fig.add_subplot(111)\n",
    "    ax.set_title(\"Symbol of \"+ schem(1).name(lambda_bool = False))\n",
    "    fig.subplots_adjust(left=0.25, bottom=0.25)\n",
    "    ax.plot(np.cos(Theta),np.sin(Theta),\"--\",  color = \"black\", label = \"unit circle\")\n",
    "\n",
    "    S = schem(val,order=order)\n",
    "    X,Y = S.symbol(nparam)\n",
    "    \n",
    "    ax.plot(X,Y, linewidth=2, label = \"symbol\")\n",
    "    \n",
    "    ax.legend(loc=\"best\")\n",
    "    ax.set_xlim(-6, 2)\n",
    "    ax.axis(\"equal\")\n",
    "    fig.canvas.draw()\n",
    "\n",
    "interact(update, val=(0.0001, 2.0))"
   ]
  },
  {
   "cell_type": "code",
   "execution_count": null,
   "id": "bb2181c2",
   "metadata": {},
   "outputs": [],
   "source": []
  }
 ],
 "metadata": {
  "kernelspec": {
   "display_name": "Python 3 (ipykernel)",
   "language": "python",
   "name": "python3"
  },
  "language_info": {
   "codemirror_mode": {
    "name": "ipython",
    "version": 3
   },
   "file_extension": ".py",
   "mimetype": "text/x-python",
   "name": "python",
   "nbconvert_exporter": "python",
   "pygments_lexer": "ipython3",
   "version": "3.11.3"
  }
 },
 "nbformat": 4,
 "nbformat_minor": 5
}
